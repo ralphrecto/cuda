{
 "cells": [
  {
   "cell_type": "code",
   "execution_count": null,
   "metadata": {},
   "outputs": [],
   "source": [
    "import torch\n",
    "from torch.utils.cpp_extension import load_inline\n",
    "\n",
    "if not torch.cuda.is_available():\n",
    "    raise RuntimeError(\"CUDA is not available\")\n",
    "\n",
    "device = torch.device(\"cuda\")\n",
    "\n",
    "# Define CUDA kernel and C++ wrapper as strings\n",
    "cuda_source = \"\"\"\n",
    "__global__ void add_kernel(float* a, float* b, float* c, int size) {\n",
    "    int idx = blockIdx.x * blockDim.x + threadIdx.x;\n",
    "    if (idx < size) {\n",
    "        c[idx] = a[idx] + b[idx];\n",
    "    }\n",
    "}\n",
    "\"\"\"\n",
    "\n",
    "cpp_source = \"\"\"\n",
    "#include <torch/extension.h>\n",
    "\n",
    "void add_wrapper(torch::Tensor a, torch::Tensor b, torch::Tensor c) {\n",
    "    int size = a.numel();\n",
    "    add_kernel<<< (size + 255) / 256, 256 >>>(\n",
    "        a.data_ptr<float>(),\n",
    "        b.data_ptr<float>(),\n",
    "        c.data_ptr<float>(),\n",
    "        size\n",
    "    );\n",
    "}\n",
    "\n",
    "PYBIND11_MODULE(TORCH_EXTENSION_NAME, m) {\n",
    "    m.def(\"add_wrapper\", &add_wrapper, \"Add two tensors (CUDA)\");\n",
    "}\n",
    "\"\"\"\n",
    "\n",
    "# Load the inline extension\n",
    "custom_ops = load_inline(\n",
    "    name=\"custom_add_extension\",\n",
    "    cpp_sources=cpp_source,\n",
    "    cuda_sources=cuda_source,\n",
    "    functions=[\"add_wrapper\"],\n",
    "    with_cuda=True,\n",
    "    extra_cuda_cflags=[\"-arch=sm_75\"] # Example flag for a specific GPU architecture\n",
    ")"
   ]
  }
 ],
 "metadata": {
  "kernelspec": {
   "display_name": ".venv",
   "language": "python",
   "name": "python3"
  },
  "language_info": {
   "codemirror_mode": {
    "name": "ipython",
    "version": 3
   },
   "file_extension": ".py",
   "mimetype": "text/x-python",
   "name": "python",
   "nbconvert_exporter": "python",
   "pygments_lexer": "ipython3",
   "version": "3.12.11"
  },
  "orig_nbformat": 4
 },
 "nbformat": 4,
 "nbformat_minor": 2
}
